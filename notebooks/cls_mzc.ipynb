{
 "cells": [
  {
   "cell_type": "code",
   "execution_count": 24,
   "id": "9044b750-7ddf-4f2c-91e2-48d5d5e19936",
   "metadata": {},
   "outputs": [
    {
     "data": {
      "text/plain": [
       "Counter({1.0: 32,\n",
       "         2.0: 9,\n",
       "         4.0: 6,\n",
       "         3.0: 4,\n",
       "         nan: 1,\n",
       "         nan: 1,\n",
       "         nan: 1,\n",
       "         nan: 1,\n",
       "         nan: 1,\n",
       "         nan: 1,\n",
       "         nan: 1,\n",
       "         nan: 1,\n",
       "         nan: 1})"
      ]
     },
     "execution_count": 24,
     "metadata": {},
     "output_type": "execute_result"
    }
   ],
   "source": [
    "from classes.acadience import Acadience\n",
    "from collections import Counter\n",
    "\n",
    "\n",
    "query = {\n",
    "    \"School Name\" : \"Montezuma Creek Elementary\",\n",
    "    \"Grade Level\" : {\"$in\": [3]}\n",
    "}\n",
    "\n",
    "acadience = Acadience(\"math\", query, \"23-24\")\n",
    "df = acadience.get_students()\n",
    "Counter(df[\"23-24 Math Composite Status (MOY)\"])"
   ]
  }
 ],
 "metadata": {
  "kernelspec": {
   "display_name": "Python 3 (ipykernel)",
   "language": "python",
   "name": "python3"
  },
  "language_info": {
   "codemirror_mode": {
    "name": "ipython",
    "version": 3
   },
   "file_extension": ".py",
   "mimetype": "text/x-python",
   "name": "python",
   "nbconvert_exporter": "python",
   "pygments_lexer": "ipython3",
   "version": "3.12.7"
  }
 },
 "nbformat": 4,
 "nbformat_minor": 5
}
